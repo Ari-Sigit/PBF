{
  "nbformat": 4,
  "nbformat_minor": 0,
  "metadata": {
    "colab": {
      "provenance": [],
      "toc_visible": true
    },
    "kernelspec": {
      "name": "python3",
      "display_name": "Python 3"
    },
    "language_info": {
      "name": "python"
    }
  },
  "cells": [
    {
      "cell_type": "markdown",
      "source": [
        "# 1"
      ],
      "metadata": {
        "id": "Lr8vlyJfFFuy"
      }
    },
    {
      "cell_type": "code",
      "source": [
        "import pandas as pd"
      ],
      "metadata": {
        "id": "a3wXqjOyMoKt"
      },
      "execution_count": 1,
      "outputs": []
    },
    {
      "cell_type": "code",
      "source": [
        "tabel1= {'kelebihan' :['penulisan program sederhana dan terstruktur', 'mudah diterlusuri', 'menggunakan memori yang lebih sedikit'],\n",
        "         'kekurangan' : ['kurang aman', 'proses yang rumit untuk menambahkan data', 'fungsi yang tersedia sulit untuk diubah']\n",
        "        }\n",
        "df = pd.DataFrame (tabel1)\n",
        "print (df)"
      ],
      "metadata": {
        "colab": {
          "base_uri": "https://localhost:8080/"
        },
        "id": "L-tq8sxqFNd1",
        "outputId": "e011381a-3d5c-4a15-a654-85e23ee57040"
      },
      "execution_count": 3,
      "outputs": [
        {
          "output_type": "stream",
          "name": "stdout",
          "text": [
            "                                     kelebihan  \\\n",
            "0  penulisan program sederhana dan terstruktur   \n",
            "1                            mudah diterlusuri   \n",
            "2        menggunakan memori yang lebih sedikit   \n",
            "\n",
            "                                 kekurangan  \n",
            "0                               kurang aman  \n",
            "1  proses yang rumit untuk menambahkan data  \n",
            "2   fungsi yang tersedia sulit untuk diubah  \n"
          ]
        }
      ]
    },
    {
      "cell_type": "markdown",
      "source": [
        "# 2"
      ],
      "metadata": {
        "id": "qvKOwoApFPdF"
      }
    },
    {
      "cell_type": "code",
      "source": [
        "tabel2= {'kelebihan' :['Aman','reusability', 'cocok untuk projek yang kompleks'],\n",
        "         'kekurangan' : ['sulit untuk dipahami', 'memakan memori yang banyak', 'proses pembuatan program lebih lama']\n",
        "        }\n",
        "df = pd.DataFrame (tabel2)\n",
        "print (df)\n",
        "                         "
      ],
      "metadata": {
        "colab": {
          "base_uri": "https://localhost:8080/"
        },
        "id": "p0w2ENuxFXoN",
        "outputId": "3cce46d4-0fca-43d6-9c2c-dc87864d340b"
      },
      "execution_count": 4,
      "outputs": [
        {
          "output_type": "stream",
          "name": "stdout",
          "text": [
            "                          kelebihan                           kekurangan\n",
            "0                              Aman                 sulit untuk dipahami\n",
            "1                       reusability           memakan memori yang banyak\n",
            "2  cocok untuk projek yang kompleks  proses pembuatan program lebih lama\n"
          ]
        }
      ]
    },
    {
      "cell_type": "markdown",
      "source": [
        "# 3"
      ],
      "metadata": {
        "id": "QMgfqOtSFYrQ"
      }
    },
    {
      "cell_type": "code",
      "source": [
        "tabel3= {'kelebihan' : ['Penggunaan memori yang lebih hemat', 'kode pemrograman lebih sederhana', 'lebih bersahabat untuk dikompilasi oleh compiler atau interpreter program', \n",
        "                        'alur program lebih mudah untuk ditelusuri'],\n",
        "         'kekurangan'  : ['Kode prosedural sering kali tidak dapat digunakan ulang, tentunya karena paradigma ini tidak membuat fungsi atau subprogram', \n",
        "                          'Sulit untuk dihubungkan dengan objek dunia nyata', 'Operasi program lebih diutamakan dibandingkan dengan pengolahan data sehingga kurang cocok untuk digunakan dalam pengembangan program yang sensitif terhadap data']\n",
        "        }\n",
        "df = pd.DataFrame (tabel3)\n",
        "print (df)"
      ],
      "metadata": {
        "id": "p3Fkg9j6IFpv"
      },
      "execution_count": null,
      "outputs": []
    },
    {
      "cell_type": "markdown",
      "source": [
        "# 4"
      ],
      "metadata": {
        "id": "g4Dg0CvSFaW-"
      }
    },
    {
      "cell_type": "code",
      "source": [
        "# Yang dimaksud dari pure functional atau Fungsi murni adalah fungsi yang melakukan suatu operasi yang hasilnya hanya bergantung dari input fungsi tersebut."
      ],
      "metadata": {
        "id": "cbEOTHXgFcSi"
      },
      "execution_count": null,
      "outputs": []
    },
    {
      "cell_type": "markdown",
      "source": [
        "# 5"
      ],
      "metadata": {
        "id": "gM88HjApGfPp"
      }
    },
    {
      "cell_type": "code",
      "source": [
        "# Lisp, Haskell, javasript"
      ],
      "metadata": {
        "id": "AruFBWZLGhmD"
      },
      "execution_count": null,
      "outputs": []
    },
    {
      "cell_type": "markdown",
      "source": [
        "# 6"
      ],
      "metadata": {
        "id": "dXDWmG-EFg-I"
      }
    },
    {
      "cell_type": "code",
      "source": [
        "def encrypt_password(pas):\n",
        "    if len(pas) > 100:\n",
        "        return \"Error: Kata terlalu panjang\"\n",
        "\n",
        "    encrypted_password = \"\"\n",
        "    for char in pas:\n",
        "        ascii_value = ord(char)\n",
        "        first_value = round((ascii_value / 26)) + 80\n",
        "        second_value = (ascii_value % 26) + 80\n",
        "        third_value = '+' if first_value > second_value else '-'\n",
        "        encrypted_password += chr(first_value) + chr(second_value) + third_value\n",
        "\n",
        "    return encrypted_password\n",
        "print(encrypt_password(\"sukacoding\"))\n"
      ],
      "metadata": {
        "colab": {
          "base_uri": "https://localhost:8080/"
        },
        "id": "ltUmKYvwFm2j",
        "outputId": "dc599a06-06dc-490e-c868-1ecbee2d75b3"
      },
      "execution_count": 6,
      "outputs": [
        {
          "output_type": "stream",
          "name": "stdout",
          "text": [
            "T[-T]-TS+Tc-Te-TW-Tf-TQ+TV-Ti-\n"
          ]
        }
      ]
    }
  ]
}